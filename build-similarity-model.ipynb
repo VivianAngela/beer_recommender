{
 "cells": [
  {
   "cell_type": "code",
   "execution_count": 2,
   "metadata": {
    "collapsed": false
   },
   "outputs": [],
   "source": [
    "from gensim import corpora, models, similarities\n",
    "import pickle\n",
    "import string\n",
    "import pandas as pd"
   ]
  },
  {
   "cell_type": "code",
   "execution_count": 3,
   "metadata": {
    "collapsed": false
   },
   "outputs": [],
   "source": [
    "def remove_punctuation(x):\n",
    "    x = str(x)\n",
    "    return x.translate(string.maketrans('',''),string.punctuation)"
   ]
  },
  {
   "cell_type": "code",
   "execution_count": 4,
   "metadata": {
    "collapsed": false
   },
   "outputs": [],
   "source": [
    "beers = pd.read_pickle('all_beer_reviews.pkl')"
   ]
  },
  {
   "cell_type": "code",
   "execution_count": 6,
   "metadata": {
    "collapsed": false
   },
   "outputs": [],
   "source": [
    "documents = [review for review in beers.reviews]"
   ]
  },
  {
   "cell_type": "code",
   "execution_count": 8,
   "metadata": {
    "collapsed": true
   },
   "outputs": [],
   "source": [
    "documents = [' '.join(review) for review in documents]"
   ]
  },
  {
   "cell_type": "code",
   "execution_count": 9,
   "metadata": {
    "collapsed": false
   },
   "outputs": [],
   "source": [
    "documents = [remove_punctuation(doc) for doc in documents]"
   ]
  },
  {
   "cell_type": "code",
   "execution_count": 10,
   "metadata": {
    "collapsed": false
   },
   "outputs": [],
   "source": [
    "documents = [review.lower() for review in documents]"
   ]
  },
  {
   "cell_type": "code",
   "execution_count": 20,
   "metadata": {
    "collapsed": false
   },
   "outputs": [],
   "source": [
    "stoplist = set('an one little just has be up had no with is this it i but that on not very some as was like from its bit at more into there my pours for a of the and to in'.split())\n",
    "texts = [[word for word in document.lower().split() if word not in stoplist]for document in documents]"
   ]
  },
  {
   "cell_type": "code",
   "execution_count": 21,
   "metadata": {
    "collapsed": true
   },
   "outputs": [],
   "source": [
    "from collections import defaultdict"
   ]
  },
  {
   "cell_type": "code",
   "execution_count": 104,
   "metadata": {
    "collapsed": true
   },
   "outputs": [],
   "source": [
    "frequency = defaultdict(int)\n",
    "for text in texts:\n",
    "    for token in text:\n",
    "        frequency[token] += 1\n",
    "        \n",
    "texts = [[token for token in text if frequency[token] > 5]for text in texts]"
   ]
  },
  {
   "cell_type": "code",
   "execution_count": 103,
   "metadata": {
    "collapsed": false
   },
   "outputs": [
    {
     "data": {
      "text/plain": [
       "[('gmcthis', 1),\n",
       " ('inchvery', 1),\n",
       " ('rescuenice', 1),\n",
       " ('bmanningpoured', 1),\n",
       " ('wineive', 1),\n",
       " ('juiceskin', 1),\n",
       " ('lagerdefinitely', 1),\n",
       " ('lighttight', 1),\n",
       " ('whilecoffee', 1),\n",
       " ('inlawinlaw', 1),\n",
       " ('alsocarbonation', 1),\n",
       " ('peachtons', 1),\n",
       " ('bitternessreceptive', 1),\n",
       " ('flavors\\xc2\\xa0i', 1),\n",
       " ('5987', 1),\n",
       " ('beijingdated', 1),\n",
       " ('hopfiend', 1),\n",
       " ('vollabel', 1),\n",
       " ('nellow', 1),\n",
       " ('coffeetasterich', 1),\n",
       " ('neutralhideous', 1),\n",
       " ('camparim', 1),\n",
       " ('90bottle', 1),\n",
       " ('woodl', 1),\n",
       " ('hangingoutwithfriends', 1),\n",
       " ('2007olde', 1),\n",
       " ('28714a', 1),\n",
       " ('withasting', 1),\n",
       " ('zeltbier', 1),\n",
       " ('burnt35', 1),\n",
       " ('weell', 1),\n",
       " ('cervoisesplitting', 1),\n",
       " ('drinkinginitial', 1),\n",
       " ('32416look', 1),\n",
       " ('promsied', 1),\n",
       " ('fourstar', 1),\n",
       " ('prevelentwhat', 1),\n",
       " ('spiceyhoppish', 1),\n",
       " ('vnious', 1),\n",
       " ('sonspours', 1),\n",
       " ('awhilewell', 1),\n",
       " ('woodey', 1),\n",
       " ('cloudymetallic', 1),\n",
       " ('summerdrinker', 1),\n",
       " ('080612', 1),\n",
       " ('bbqy', 1),\n",
       " ('welloverallenjoyable', 1),\n",
       " ('powdertasteherbal', 1),\n",
       " ('goldencreamy', 1),\n",
       " ('ryeblackipa', 1)]"
      ]
     },
     "execution_count": 103,
     "metadata": {},
     "output_type": "execute_result"
    }
   ],
   "source": []
  },
  {
   "cell_type": "code",
   "execution_count": 105,
   "metadata": {
    "collapsed": false
   },
   "outputs": [],
   "source": [
    "dictionary = corpora.Dictionary(texts)"
   ]
  },
  {
   "cell_type": "code",
   "execution_count": 106,
   "metadata": {
    "collapsed": true
   },
   "outputs": [],
   "source": [
    "corpus = [dictionary.doc2bow(text) for text in texts]"
   ]
  },
  {
   "cell_type": "code",
   "execution_count": 107,
   "metadata": {
    "collapsed": true
   },
   "outputs": [],
   "source": [
    "tfidf = models.TfidfModel(corpus)"
   ]
  },
  {
   "cell_type": "code",
   "execution_count": 108,
   "metadata": {
    "collapsed": true
   },
   "outputs": [],
   "source": [
    "corpus_tfidf = tfidf[corpus]"
   ]
  },
  {
   "cell_type": "code",
   "execution_count": 109,
   "metadata": {
    "collapsed": false
   },
   "outputs": [],
   "source": [
    "lsi = models.LsiModel(corpus_tfidf, id2word=dictionary, num_topics=500)"
   ]
  },
  {
   "cell_type": "code",
   "execution_count": 110,
   "metadata": {
    "collapsed": false
   },
   "outputs": [],
   "source": [
    "index = similarities.MatrixSimilarity(lsi[corpus])"
   ]
  },
  {
   "cell_type": "code",
   "execution_count": null,
   "metadata": {
    "collapsed": true
   },
   "outputs": [],
   "source": []
  },
  {
   "cell_type": "code",
   "execution_count": 51,
   "metadata": {
    "collapsed": false
   },
   "outputs": [
    {
     "data": {
      "text/plain": [
       "1084"
      ]
     },
     "execution_count": 51,
     "metadata": {},
     "output_type": "execute_result"
    }
   ],
   "source": [
    "beers[beers.name == 'Heady Topper'].index[0]"
   ]
  },
  {
   "cell_type": "code",
   "execution_count": 111,
   "metadata": {
    "collapsed": true
   },
   "outputs": [],
   "source": [
    "beers = beers.reset_index()"
   ]
  },
  {
   "cell_type": "code",
   "execution_count": 127,
   "metadata": {
    "collapsed": true
   },
   "outputs": [],
   "source": [
    "text_input = 'Death & Taxes Black Beer'"
   ]
  },
  {
   "cell_type": "code",
   "execution_count": 128,
   "metadata": {
    "collapsed": false
   },
   "outputs": [
    {
     "name": "stdout",
     "output_type": "stream",
     "text": [
      "Beer Name Not Inputted\n"
     ]
    }
   ],
   "source": [
    "# get the reviews for a beer\n",
    "beer_name_inputted = 1\n",
    "try:\n",
    "    doc= documents[beers[beers.name == text_input].index[0]]\n",
    "except IndexError:\n",
    "    print 'Beer Name Not Inputted'\n",
    "    doc = text_input\n",
    "    beer_name_inputted = 0\n",
    "vec_bow = dictionary.doc2bow(doc.lower().split())\n",
    "vec_lsi = lsi[vec_bow]\n",
    "\n",
    "sims = index[vec_lsi]\n",
    "similar_beers = []\n",
    "for beer in sorted(enumerate(sims), key = lambda x: -x[1])[beer_name_inputted:beer_name_inputted+5]:\n",
    "    similar_beers.append(beers.name[beer[0]])\n",
    "    #print(beers.name.iloc[beer[0]] + '\\t:\\t%.2f' % (beer[1]*100))"
   ]
  },
  {
   "cell_type": "code",
   "execution_count": 36,
   "metadata": {
    "collapsed": true
   },
   "outputs": [],
   "source": [
    "# documents\n",
    "# dictionary\n",
    "# lsi    41.2s\n",
    "# index  6.4s --rebuild on app"
   ]
  },
  {
   "cell_type": "code",
   "execution_count": 120,
   "metadata": {
    "collapsed": false
   },
   "outputs": [],
   "source": [
    "pickle.dump(documents,open('flask/app/models/documents.pkl','wb'))"
   ]
  },
  {
   "cell_type": "code",
   "execution_count": 121,
   "metadata": {
    "collapsed": true
   },
   "outputs": [],
   "source": [
    "pickle.dump(dictionary,open('flask/app/models/dictionary.pkl','wb'))"
   ]
  },
  {
   "cell_type": "code",
   "execution_count": 122,
   "metadata": {
    "collapsed": true
   },
   "outputs": [],
   "source": [
    "pickle.dump(lsi,open('flask/app/models/lsi.pkl','wb'))"
   ]
  },
  {
   "cell_type": "code",
   "execution_count": 123,
   "metadata": {
    "collapsed": false
   },
   "outputs": [],
   "source": [
    "pickle.dump(corpus,open('flask/app/models/corpus.pkl','wb'))"
   ]
  },
  {
   "cell_type": "code",
   "execution_count": 124,
   "metadata": {
    "collapsed": true
   },
   "outputs": [],
   "source": [
    "pickle.dump(index,open('flask/app/models/index.pkl','wb'))"
   ]
  },
  {
   "cell_type": "code",
   "execution_count": 125,
   "metadata": {
    "collapsed": true
   },
   "outputs": [],
   "source": [
    "beers.to_pickle('flask/app/models/beer_review_df.pkl')"
   ]
  },
  {
   "cell_type": "code",
   "execution_count": null,
   "metadata": {
    "collapsed": true
   },
   "outputs": [],
   "source": []
  },
  {
   "cell_type": "code",
   "execution_count": 55,
   "metadata": {
    "collapsed": true
   },
   "outputs": [],
   "source": [
    "pickle.dump(beer_names,open('flask/app/models/beer_names.pkl','wb'))"
   ]
  },
  {
   "cell_type": "code",
   "execution_count": 1,
   "metadata": {
    "collapsed": true
   },
   "outputs": [],
   "source": [
    "from sklearn.cluster import KMeans"
   ]
  }
 ],
 "metadata": {
  "kernelspec": {
   "display_name": "Python 2",
   "language": "python",
   "name": "python2"
  },
  "language_info": {
   "codemirror_mode": {
    "name": "ipython",
    "version": 2
   },
   "file_extension": ".py",
   "mimetype": "text/x-python",
   "name": "python",
   "nbconvert_exporter": "python",
   "pygments_lexer": "ipython2",
   "version": "2.7.11"
  }
 },
 "nbformat": 4,
 "nbformat_minor": 0
}
