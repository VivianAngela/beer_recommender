{
 "cells": [
  {
   "cell_type": "code",
   "execution_count": 24,
   "metadata": {
    "collapsed": false
   },
   "outputs": [],
   "source": [
    "import textacy\n",
    "import pandas as pd\n",
    "from tqdm import tqdm"
   ]
  },
  {
   "cell_type": "code",
   "execution_count": 40,
   "metadata": {
    "collapsed": true
   },
   "outputs": [],
   "source": [
    "beers = pd.read_pickle('all_beer_reviews.pkl')"
   ]
  },
  {
   "cell_type": "code",
   "execution_count": 59,
   "metadata": {
    "collapsed": false
   },
   "outputs": [
    {
     "data": {
      "text/plain": [
       "[' 2013 version poured into a snifter. Comes out rich, dark brown with bit of mocha foam that fades to a persistent lace. Smell is oak, rye, booze, chocolate, vanilla, slight malt. Very inviting nose on this. Taste is sweet, oak, vanilla, char, and nice rye bite near the tail end. Mouth is very smooth and creamy, though slightly light for the abv. It goes down very easy.This was a really enjoyable beer. Better than the 2012 OF IMO.',\n",
       " ' Cracked right before the Diaz/McGregor fight, pours as sturdy of thick black liquid as Eclipse ever has.  Plenty of roast, chocolate malt, dark oak barrel notes in the aroma.Taste, easily comes off as the sweetest Eclipse variety.  Less bourbon taste and more bourbon sweetness imparted, the char, vanilla aspect of a barrel is subdued in exchange for a greater, sweeter mouthfeel.  Sweet toffee, mild oak along with that sweetness.',\n",
       " ' Thanks to far & away my favorite mule/wife for bringing this bottle back from San Diego. Which is funny, because I looked high & low for Eclipse stouts in my seven weeks in San Diego in the last year & came up 100% empty. Luck of the Irish. 22 oz. lime-waxed bottle split with said mule. The pour is eclipse black, which is funny, because you can\\xe2\\x80\\x99t actually see an eclipse. Which isn\\xe2\\x80\\x99t funny at all. The nose is unusually light for both this line & the universe of barrel-aged stouts, really  just a little roast & malt sweetness. Pretty weak. Eclipse - High West Rye is wading in the shallow end of the gene pool. Most of the Eclipse are Emmy-ready, but this is more like the Prince of Bel-Air. Mild to the point of timid. Spare roast, barrel that\\xe2\\x80\\x99s faint, bit of the rye spice as it warms, sweetness, bit of wood. Nothing stands out. Thicker than the average Eclipse, but half a bottle is plenty. Not much to this. The barrel is thin bordering on anorexic, & without the highlight of the barrel, one is left with a base stout that\\xe2\\x80\\x99s $20 overpriced. That brings me down, man. Pretty good.',\n",
       " \" look: Dark dark brown as an Imp Stout should be, nearly opaque. Some cola highlights. Big ass tan head for a nearly 12%'r and thick creamy lacing.smell: Wow, lots of goodness here. A bit of Rye spice, in a honey roasty milkshake. taste: does not lose anything to the nose. If anything there's a chewy fudgey thing happening on top.  So mellow and easy drinking. Very nice indeed.\",\n",
       " \" Smooth drinking stout for sure. You get the spiciness from the rye that doesn't translate to overt sweetness as bourbon might which is nice. My only major knock on the eclipse beers is that they are all a bit thin mouthfeel wise...even moreso than say KBS, but that doesn't make them bad. This goes down easy, especially for the abv.\",\n",
       " ' inky black, thin with a mocha head, good legsnice rye scent, spice notes, vanilla,alcohol is there, dark malts give good chocolate notes,complex charactorthe nose and taste match upgood balance. a bit thin.real good, not great for me. too pricey.',\n",
       " \" Poured from a 2015 Batch 1 bottle. Poured a dark black color with a minimal head on top. The nose show hints of chocolate, sweetness and coffee with the mild rye whisky in the back. The taste is smooth and follows the nose chocolate coffee and the rye whisky very nicely blended together. The rye whisky tends to me a little more mellow that some of the bourbon does and you really don't feel and alcohol burn. This one of the smoothest drinking barrel aged beers I've had in quite some time.\",\n",
       " \" 2015 batch, bottle purchases from the brewery at the release partyFrom lime-green wax-sealed bomber to Eclipse snifterInstead of reviewing each variety individually, I like to refer to my first review -http://www.beeradvocate.com/beer/profile/14936/64055/?ba=rand - and note any differences or unique nuances.  Plus, I reviewed that when barrel-aging wasn't as ubiquitous as it is now, and I'd only had a handful of examples, so my palate descriptions were more specific and colorful.This one follows along the same flavor profile of all the Eclipse varieties, with distinct notes of chocolate and licorice and coffee.  You can just subtly make out the rye whisky aging, which isn't quite as sweet as its bourbon counterparts.  For some reason, this is tasty better than it did on tap, probably because my palate was numb from the onslaught of free-pouring whiskey-aged stout, but it doesn't seem as hot.  And this is a clear step up from last years batch -  this one is more drinkable and balanced.\",\n",
       " \" Bomber labeled Batch 2 (2014) into a snifter at cellar temp, allowed to warm.Look: robust brown, but not at all black; like lightly used motor oil. Minimal light brown head.Smell: at first I get sharp metallic notes, but eventually chocolate, coffee, and dates come through.Taste: bittersweet chocolate, roast, hints of rye spice, mild vanilla. Solid, but not a lot going on.Feel: medium bodied, silky, a bit dry.Overall: a nice tasty stout, and would be in an upper echelon for non-barrel-aged offerings (though still below Monster's Park). But if I didn't know it was barrel-aged, I wouldn't guess it. Maybe the year-plus of age was a bad idea. Nowhere near worth what it cost.\",\n",
       " ' Fantastic beer! Bourbon is there but nor overpowering at all, lovey sweet honey with dark malts, little coffee taste, dark fruit and rich dark chocolate. Very expensive but very very good',\n",
       " \" Poured from the bottle into a large snifter glass.  Vintage 2014, lime green wax.Deep classic and simple walnut dark brown body.  Head manages half a finger of off tan brown, slightly into mocha, but dissolves to a fine, and slightly bubbled collar.  A bit of a slick top, but not too much.  Some fine big bubbles manage to stick around on the top as well.Excellent aroma.  Spicy notes and a real sense of sweet and grainy fig quality.  There's even an interesting tropical note going on in here, that sort of hints at a bit of soft papaya or mango.  Light notes of chocolate and woody grain touches.  Soft dark chocolate aromas and almost with the tropical goes to sweet orange as well which is a great combination.  Very complex, very varied, and just fantastic.Palate continues the solid goodness.  Hints almost at fudgy character but takes a step back in thickness but complete oak round flavors and feel.  Mid palate fills with fruited spice, hitting an almost sharp peppered fruit and spicy cinnamon.  Chewy almost lime hop finish, with a crushing and oozy chocolate and char roast character.  First sip feels like a fruited stout, then comes an almost a heavy robust black IPA on the finish.  Light tastes of orange, tangerine, oils and mild bitter zest.  Hardly any sense of booze, and some cocoa powder dryness and honey lip smacking stickiness on the front.What a great play and use of sweetness, unexpected fruity quality, and delicious spice and whiskey character.  Another great feather in the cap for these guys and the Eclipse series.\",\n",
       " \" Bottle from my Vermont trip. Pours black with nice brown head. Aroma of lots of char, some fruity notes. Flavor follows with big char and sweetness. But this is way thin, even for an Eclipse variant. It's too bad they can't make a base beer that stands up to the barrels, because all the flavors here are really nice. Thicken this beer up, please.\",\n",
       " ' Aged 5 months, this pours smoothly with a slow rising head about 3/4 inch in a dark caramel. This smells pretty light. Not an overpowering aroma but has hints of bourbon and a light sweetness. The taste is rich with rye, light toffee, dark chocolate, and a creaminess that is reminiscent of a milk stout. The feel exceeds the flavor as it is silky with a medium to heavy body. Great brew and great experience, hands down.',\n",
       " ' 2014 22 oz bottle poured into snifterA: pure darkness very little head soapyS: bourbon some alcohol light roast T: very smooth light on the tongue nice roast some bourbon very softM: Have to combine the mouth with taste I talked a lot about how it feelsO: Its a good beer but lacks the depth and character that the Elijah Craig version does.   I would pick this version up again.',\n",
       " ' 2014 Vintage11.9% ABVAppearance: Very dark brown bordering on black with a moderate sized dark beige head that gradually faded.  A nice looking Imperial StoutSmell: Brown sugar, mild Whiskey, and mild roasted malt aromas. Not a bad nose but the barrel aromas are fairly mild.Taste: The rye Whisky bal-aging features prominently with some spicy notes not present in the Bourbon bal-aged Eclipses. The profile also features roast malts, faint vanilla, brown sugar and tannic oak notes. The tannic oak notes feature prominently in the taste profile and the finish is a bit drier than the Bourbon bal-aged variants. Fairy restrained alcohol presence.Mouth-feel: On the light side of medium bodied with a moderate level of carbonation. Overall: This was a good Eclipse variant with the spicy rye whiskey notes featuring prominently.',\n",
       " ' The beer offers a medium roasted malt, caramel sweetness, onto dark fruit, a spicy licorice, and a heavy on the finish. The beer has a medium mouthfeel. A bit spicy and intense without enough vanilla and chocolate to balance it out.',\n",
       " \" 2014 vintage. 22oz bottle with lime green wax. Bottle run 2. Pours a pitch black color with over an inch of medium brown head. Lots of lacing. The aroma is lots of wood and booze with dark chocolate, roasted malts, vanilla and earth. The taste is lots of rye flavor up front followed by chocolate syrup, roasted malts, a hint of smoke and some wood. Vanilla and caramel as well. Finishes with lots of the rye flavor. Nice amount of alcohol burn while still being relatively drinkable. Heavy mouthfeel with a good deal of carbonation. Overall, just like the other ones I have had, it's a very good BA Imperial Stout. Pricey, but worth buying once in a while.\",\n",
       " ' From 03/07/15 notes. 2013 vintage. 22 oz. bottle poured into a tulip.Pours a dark brown, almost black color, with one finger of dark tan head and moderate carbonation evident. Lots of milk chocolate, roasted malts, sweet chocolate, spice, rye harsh whiskey, caramel malts, and burnt malts. Medium body and low to moderate carbonation.Overall not my favorite variant but very good. Worth getting for sure if it is not too much effort.',\n",
       " \" 22oz, light lime green waxed bottle, BR 2 of 2014.This beer pours a solid black abyss, with the barest of back-lit basal cola edges, and one skinny finger of weakly foamy and mostly bubbly brown head, which leaves a bit of streaky and windblown ocean spray lace around the glass as things slowly abate.It smells of sugary and bready caramel malt, heady Bourbon barrel notes - edgy vanilla, spicy rye grain alcohol, and an acrid woodiness - black licorice, a touch of roasted day-old coffee, bittersweet chocolate, and a soft earthy, musty hop bitterness.  The taste is more roasted graininess and dry cocoa powder, before that big-assed rye whiskey barrel comes 'a, um, barreling through my gentle palate - crisp and yet astringent booze-soaked wood staves, dry vanillan, toasted caramel, and spicy rye bread - over some still perky dry anise and coffee bean esters, and a well-sublimated metallic alcohol measure.The carbonation is still noticeable in its plain and understated frothiness, the body medium-heavy in weight, and mostly smooth, the rye-ness of it all behaving like a perfect southern gentleman.  It finishes on the sweetly caramelized side, and very much like the rye it was aged in - spicy, caramelized, and woody.For a straight rye whiskey barrel aged imperial stout, this comes off as way more drinkable that it has any right to, IMHO.  I guess it helps that said whiskey is one of the higher-end rye products on the shelves of your local liquor purveyor, and keeps (so I've been told) the typical tongue-scraping acerbity to the bare minimum, as such.  Yeah, it's clear that I'm not a fan of the guest spirit in toto, but somehow my attitude changes as far as this product is concerned.  Good stuff and go freaking figure.\",\n",
       " \" BR/2 2014 batch.A: Pitch-black pour with a nice tall, dense medium brown head. Head lightens quickly but refuses to fade. Great head retention. Marginal lacing, just tiny little spots here and there.S: Spicy rye whiskey is noticeable and dominant right off the bat. Good amount of oak with it. A touch of char and hershey's syrup. T: Oh yeah. Tons of spicy rye whiskey. Huge amount in fact. Initially it tastes like I've sipped on a shot of HW rye (I have some right next to me in fact). Big, sharp and spicy rye character. It fades gradually into the middle where that hershey's syrup shows up again with a bitter coffee backing. Finish and aftertaste are a nice mashup of bittersweet chocolate and spicy rye whiskey. Hint of oak lingers as well.M: Heavy, spicy and bittersweet all at the same time. Not as heavy as some of the other variants, lots of alcohol to cut it down.O: Out of all the variants I've had, this one highlights the spiciness of rye whiskey the best. Huge rye notes and a sharpness that has to be experienced to understand. The combination of rye and alcohol bite really cuts down on the thickness and sweetness of the beer, however, balancing it fairly nicely. Well, almost balanced; it's still a rye whiskey bomb no matter how you look at it. Still, once you get past the first few sips it's really enjoyable. Let this one warm up for sure, any amount of coldness only seems to enhance the harshness. It sweetens up and mellows a bit once it's fully warm.\",\n",
       " ' A: Thin dark brown in color. Appearance of a thin brown head. Good carbonation.S: Rye on the nose, faint bourbon, chocolate, and grain. Nose is not overwhelming.T: Slightly sweet but cut by the rye whiskey flavor, hints of vanilla and chocolate, wood, earthy grain. Very little booze and a mild warming.M: Medium feel on the mouth. Smooth with good carbonation. O: Very good BA stout. Good representation of rye whiskey barrel aging.',\n",
       " ' 22oz bottle into snifter. 2013 release. A: Pours a deep black with a thin dark brown head that quickly disappeared into a faint, bubbly film. A ton of tiny, spotty, soapy lace was left down the glass. S: Roasted malts, chocolate, warming booze, and spicy rye. Smells rich and potent, and a bit sweet.T: Toasted and sweet notes of dark chocolate, rye whisky barrel, toasted coconut, vanilla, caramel, brown sugar and woody barrel. Very smooth and decadent, and sweeter than I remember some of the other variants being. The finish is full of spicy rye, toast, and sticky sweet candied sugar and honey, and the finish has a lingering toastedness, mild tobacco, leather, and bitter earthy hops. M: Full bodied, chewy and very sticky-sweet mouthfeel, soft and smooth carbonation. The alcohol is very mild and only slightly warming. O: An all-around great stout and one of the beer, thicker, and sweeter eclipse variants in recent memory. Drinks very well, especially at room temp.',\n",
       " ' bottle poured into two Sam Adams perfect pints.1 inch of head that dissipates leaving a slight bit of head. dark mahogany color is only revealed using a very bright flashlight.good carbonation.nose is chocolate, booze and bread. taste is boozy but the goodness shines through.I like some other big stouts more but this is one to try.mouthfeel finishes dry and bready. seems a little light for such a strong beverage. some stickiness on the lips.',\n",
       " ' Bottle opened on 4.21.14Barrel Run #1 2013A - Pours a very dark brown with a fine light brown head with good retention.S - Sweet rye and chocolate, subtle and nice.T - Swwet rye, barrel, chocolate, a touch of toffee.D - Good carbonation with a heavy body.O - Sweet, but nice balance. Rye is there. Good stuff.',\n",
       " ' Bottle poured into a snifter. 2013 vintage - bottle run #1A - black with dark brown edges. S- whiskey and chocolate very faint vanillaT - whiskey goodness, lots of chocolate and some rye spice but not overpowering. Blends pretty good. M - a little thin compared to the other eclipse variants. O - damn good BA stout. I liked the Evan Williams a bit better, but the rye barrel is definitely very well down. I look forward to the Elijah Craig and four roses.']"
      ]
     },
     "execution_count": 59,
     "metadata": {},
     "output_type": "execute_result"
    }
   ],
   "source": [
    "beers.reviews[0]"
   ]
  },
  {
   "cell_type": "code",
   "execution_count": 42,
   "metadata": {
    "collapsed": false
   },
   "outputs": [],
   "source": [
    "documents = [review for review in beers.reviews]"
   ]
  },
  {
   "cell_type": "code",
   "execution_count": 45,
   "metadata": {
    "collapsed": false
   },
   "outputs": [],
   "source": [
    "documents = [' '.join(review) for review in documents]"
   ]
  },
  {
   "cell_type": "code",
   "execution_count": 47,
   "metadata": {
    "collapsed": false
   },
   "outputs": [],
   "source": [
    "documents = [unicode(review,errors='ignore') for review in documents]"
   ]
  },
  {
   "cell_type": "code",
   "execution_count": 57,
   "metadata": {
    "collapsed": false
   },
   "outputs": [
    {
     "name": "stderr",
     "output_type": "stream",
     "text": [
      "100%|██████████| 20381/20381 [01:00<00:00, 338.74it/s]\n"
     ]
    }
   ],
   "source": [
    "documents_processed = []\n",
    "for document in tqdm(documents):\n",
    "    document = textacy.preprocess.remove_punct(document)\n",
    "    document = textacy.preprocess.replace_numbers(document,replace_with='')\n",
    "    documents_processed.append(document)"
   ]
  },
  {
   "cell_type": "code",
   "execution_count": 58,
   "metadata": {
    "collapsed": true
   },
   "outputs": [
    {
     "data": {
      "text/plain": [
       "u' tapPours jet black with a tannish lacing  Smells of mild cocoa and hints of coconut  Bit of cocoa and lactose with a whisper of coconut and a nonastringent coffee element  Medium body with lighter carbonation  Pretty good stout good body for being a lighter stout and the coconut is a nice touch I wish there was a bit more coconut is all Would be willing to try this or other flavored stouts again for sure  All but black with  of head off the pour Soso retention 30Roasty malts dominate with some soily tart aroma like a Baltic Porter would smell Hint of nuttiness 30Wellkilned black malts with a shinethrough freshly grated coconut flavor Earthy with some mild malt bitterness A little greenness from the hops Tickling carb creates the impression of spiciness Hints of vanilla and marshmallow Medium body with overdrive spritz Not a particularly mellow drink  30This works okay Nothing wrong with it Lacking much in the nose and the feel is pretty average Not their best stout   First had on tap at the breweryDark chocolate brown pour with a small tan cap of head that receded to a ringlet minimal lacing My wife took the first sip of this and claimed to detect no coconut whatsoever Well it just goes to show how peoples palates can differ because I got plenty of coconut out of this beer We experienced vice versa palateage for the cherry in the Quadzilla Not overblown but Id hardly call it subtle Nice smooth aroma of roast notes of coffee chocolate coconut Dark roasted malts up front in the taste with a distinct flavor of chocolatecoconut macaroons coming in midpalate sweetness and roastiness find a good equilibrium Maybe its because I detest coconut in most forms that the flavor was so blatant to me but I definitely got a good fix of it here even if it wasnt extremely potent Smooth and creamy mouthfeel not quite fullbodied but quite tasty and drinkable overall One of my favs from the Church  I went for the cask version of the Coconut Stout which in my opinion was a mistake A few of my friends got it from the tap and I believe it was a better beer However it was still good Black pour with a good amount of light brown to white head Once poured the head forms much like a Guinness is poured The smell is almost toasted very sweet which I would expect from combining coconut and a stout The problem with Cask vs Tap for me came with the taste which for me was all over the place I considered the taste of the Tap version to be more controlled and balanced blending the coconut and stout flavors wonderfully whereas my version you didnt know what was going to happen with each drink not in a good way however The beer is full bodied and dry throughout I just think it was served too warm for my preference Like with Quadzilla I like to witness the beer evolve as it warms I sort of missed out with this one My advice If you like cask beers try it If youre not really sure go for the version thats on tap which I thought was nothing short of phenomenal  Got this on tap at local pub for lunch todayA Pitch black and thin foam cap nice and tasty lookingS Light coffee  dark chocolates and virtually no coconut to speak ofT This is a first for me and kind of a drag Lots of roasted malts and some dark chocolates slightly burnt coffee and then a faint coconut tasteM Thin and watery a disappointment hoping this would be rich and thickO Would probably not get another unless it was with the pub special lobster corn dogs the sweetness goes good togetheror something else that would be complimentary  Had this at Ds in Monroeville PA on tap last  weekends A few of the pleasures of life seem to coexist in the description  coffee Mounds bars and Church Brew Works beer I recently had their Belgian Tripel which was topnotch so this was promising But there was concern that it could be cloyingly sweet It wasnt  the coconut is subtle in the afternaste balancing with the rich stout flavors Sold out quickly I nice break from IPAs and summer wheats Ive been trying Worth trying if you find it in the PGH area A Salud  0Had this on tap at the brew pub Review is from notes taken on  and poured from the tap to a pint glassAppearance Pour is a dark coffee brown and starts with a short one finger creamy tan head that fades to a thin and full yet uneven cap a thick creamy wall of lacing is left behind at first but eventually fades to swaths and patches that stick around a while body is dark and nearly entirely opaqueSmell Comes across a little weak some burnt coffee notes and a bit of bittersweet chocolate as it continues to warm the coconut starts to make a presence and comes across warm sweet and toasty like the top on top a pie that is baked for a few extra minutes to brown the coconut and dry it out a bitTaste Dark roasty coffee with a touch of an earthy metallic flavor that is reminiscent of coppery at first I dont really notice much of the coconut but as it sits and warms for a few more minutes it really starts to come out and make a nice creamy and sweet presence and it kind of reminds me of a Mounds bar when it blends in with a bit of bittersweet chocolate from the malts Definite solid and worth trying based upon thisMouthfeel A little thinner than what I like in a stout but for an American Stout its definitely within the style in terms of weight and viscosity body is soft and creamy and a thin dry stickiness is left on the roof of the mouth teeth feel a little gritty when its downOverall Not too bad and the flavor alone makes it worth trying I feel that the nose could be a little bigger and perhaps some time in the secondary on top of some more freshly toasted coconut would really bring it around or perhaps doing this in a more imperial style but then again I prefer that style to begin with  A  Dark brown that you cant see light through with a tan head that leaves a nice lacingS  Lots of chocolate and coconut this beer doesnt pull any punches on aroma there some nuttyness as well but its mostly just the coconutT  Strong chocolate and coconut flavors hit the tongue but quickly fades and leaves little aftertasteMD  Mouthfeel is weak and watery and ruins what could have been a great beer This is reasonably drinkable porter and would probably be a favorite of a coconut lover but left me wanting just a litle bit more  On tap at Smokin Joes Friday July  review is from notes Poured into a pint glassA  Like most normal stouts this one is black Very little head formed at all Just a very thin film of a roasted hazelnut color formed after it was placed in front of meS  Smells like any other run of the mill stout Roasted malts some chocolate aromas and come slight coffee as well Little to no coconut aroma at all I reaaally had to search to try and ascertain any coconut in this beerT  Just an average stout There is almost no coconut flavor in any way in this one quite disappointing Even after letting it warm for almost  minutes the flavor still doesnt make an appearance like one would think it should If anything there is the slightest sweetness on the back end of the taste that could potentially be coconut but it is so incredibly masked I cant say for sure it isM  Nice smooth creamy mouthfeel Very silkyD  The drinkability is fine on this one Unfortunately after being very disappointed in the lack of the most significant flavor advertised in this beer I would not be reaching for another anytime soon  Pint enjoyed  the brew worksA very dark opaque brown Not much head and what is there doesnt last long S roasted malt Sweet chocolate covered fruit Some coffee Noticeable coconut aroma T similar to smell Im not picking up as much coconut flavor as other reviewers have noted but it is there Coffee and bitter chocolate in the finish M very nice soft velvety feel Well suited to to flavors of this beerD high The coconut flavor is in check and not tiresome I could definitely have another Never been a big fan of Church BW but I like this one On top of that its a great place to have a beer The coconut stout isnt worth seeking out but a trip to the brewpub is  Church Brew Works Coconut Stout has a body that is somewhere between dark brown and black it is opaque The offwhite head is small and doesnt have much going on in the lacing or retention departmentsThe aroma has an odd slightly tart fruit smell to it which I find somewhat unpleasant Besides that a ton of roasted malt and a hint of coconut are in thereLuckily the taste omits the strange fruit from the aroma This is actually a pretty simple beer it has a bunch of roasted malt up front and the finish has a good fairly strong coconut flavor It isnt terribly complex but it is one of the better coconut beers that I have sampledThe body on this one is pretty light but I guess that should be expected with the relatively low ABVCoconut stout is simple but very drinkable I would probably order it again  on tap poured into a pub glass at the brewpub in Pittsburgh pours a deep chocolate brownblack color with a half finger of light tan head weak retentionaroma is of roasted malts and a bit of chocolate with a distinct sweetness from the coconut which forms a base nicely proportioned in the nosetaste is of more roasted malts with a sweet coconut base that lingers after the fact somewhat light on the palate with a very satisfying finish well proportioned with a solid treatment of the coconutmouthfeel is medium bodied with a smooth character accented by the sweetness and lasting roasted malt qualities that work well with the coconut character interestingly drinkabledrinkability is great the coconut and roasted malt should not work well together in concept but in the final product do well to compliment one another very drinkable with a sublime aftertaste cheers  Pint on tap at Capones Poured a dark brown color with a very small sizedalmost no off white head Aromas of chocolate roast and very light coconut Tastes of chocolate lighter roast coconut and vanilla Notes from and tasted on   From notes On tap at CaponesAppears a dark brown with a small tan cap that slowly fades into a mild collar Spotty streaks of lacing are left around the glassSmell is of tart fruit caramel vanilla sugar and cocoaTaste is of the mentioned aromas with the standout cocoa caramel and vanilla along wiht a mild coconut flavor coming through in the aftertasteMouthfeel is medium bodied slick sugary with a tart finish  On tap at the Church Brewpub in Pittsburgh Appears like a typical stout dark and creamy Has some of the typical smells dark roasted malt some chocolate and coffee but overwhelming with coconut Taste is dominated by coconut This is something different from any beer I have had before and unique enough that it was worth trying but not something I particularly enjoy There were other much better beers at this brewery  ABlack with a thin tan head Left very spotty laceSSubtle and rather light roasty sweetness Coconut aroma is faintnot really sure if I would guess it was coconut if I didnt knowTSweet roast with a hint of the dryness of the toasted coconut Not very complexMMedium body with a fairly creamy feel and a nice dry finishDDecent but has room for improvement I would like a bit more chocolateroasty flavours to introduce some complexity The coconut adds a nice drying aspect and decent flavourbut that is where it ends I can see hints of a really good brew here but find it lacking  Appearance Arrives at the bar with a nearly black color and a modest head that leaves some lacing while it lastsSmell Unsweetened coconut and roasty elementsTaste Up front the coconut and chocolate clearly come through but there is a developing nut skin bitterness that appears at midpalate the coconut continues into the finish as the bitter flavors fade and the sweet stout elements reassert themselvesMouthfeel Medium body slightly creamy with moderate carbonationDrinkability A nice combination but I cant help but think what this would be like in an Imperial version with a big mouthfeel and a lot more coffeechocolate character'"
      ]
     },
     "execution_count": 58,
     "metadata": {},
     "output_type": "execute_result"
    }
   ],
   "source": [
    "for doc in documents_processed:\n",
    "    "
   ]
  },
  {
   "cell_type": "code",
   "execution_count": 62,
   "metadata": {
    "collapsed": false
   },
   "outputs": [],
   "source": [
    "test_doc = textacy.texts.TextDoc(documents_processed[0])"
   ]
  },
  {
   "cell_type": "code",
   "execution_count": null,
   "metadata": {
    "collapsed": false
   },
   "outputs": [],
   "source": [
    "text_corpus = textacy.texts.TextCorpus.from_texts(lang='en',texts=documents_processed)"
   ]
  },
  {
   "cell_type": "code",
   "execution_count": null,
   "metadata": {
    "collapsed": true
   },
   "outputs": [],
   "source": []
  }
 ],
 "metadata": {
  "kernelspec": {
   "display_name": "Python 2",
   "language": "python",
   "name": "python2"
  },
  "language_info": {
   "codemirror_mode": {
    "name": "ipython",
    "version": 2
   },
   "file_extension": ".py",
   "mimetype": "text/x-python",
   "name": "python",
   "nbconvert_exporter": "python",
   "pygments_lexer": "ipython2",
   "version": "2.7.11"
  }
 },
 "nbformat": 4,
 "nbformat_minor": 0
}
