{
 "cells": [
  {
   "cell_type": "code",
   "execution_count": 1,
   "metadata": {
    "collapsed": false
   },
   "outputs": [],
   "source": [
    "from bs4 import BeautifulSoup\n",
    "import string\n",
    "import requests\n",
    "import pandas as pd\n",
    "import re\n",
    "import pickle\n",
    "\n",
    "from fake_useragent import UserAgent\n",
    "ua = UserAgent()"
   ]
  },
  {
   "cell_type": "code",
   "execution_count": 2,
   "metadata": {
    "collapsed": true
   },
   "outputs": [],
   "source": [
    "def remove_punctuation(x):\n",
    "    x = str(x)\n",
    "    return x.translate(str.maketrans({a:None for a in string.punctuation}))"
   ]
  },
  {
   "cell_type": "code",
   "execution_count": 3,
   "metadata": {
    "collapsed": true
   },
   "outputs": [],
   "source": [
    "def get_soup(url, timeout=5):\n",
    "    headers  = {'User-Agent':ua.random}\n",
    "    try:\n",
    "        response = requests.get(url,headers=headers)\n",
    "    except:\n",
    "        print(\"FAILED \"+ url)\n",
    "        return 0\n",
    "    attempts = 0\n",
    "    while(not response.ok):\n",
    "            print((url+' failed with code: '+str(response.status_code)))\n",
    "            if attempts > timeout:\n",
    "                print(url+' failed with code: '+str(response.status_code))\n",
    "                return BeautifulSoup('','lxml')\n",
    "            response = requests.get(url)\n",
    "            attempts += 1\n",
    "    page = response.text\n",
    "    soup = BeautifulSoup(page,'lxml')\n",
    "    return soup"
   ]
  },
  {
   "cell_type": "code",
   "execution_count": null,
   "metadata": {
    "collapsed": false
   },
   "outputs": [],
   "source": [
    "# Get all urls for each beer style\n",
    "\n",
    "url = 'http://www.beeradvocate.com/beer/style/'\n",
    "soup = get_soup(url)\n",
    "\n",
    "beer_styles = {}\n",
    "for style in soup.find('table').find_all('a'):\n",
    "    beer_styles[style.get_text()] = style['href']"
   ]
  },
  {
   "cell_type": "code",
   "execution_count": null,
   "metadata": {
    "collapsed": false
   },
   "outputs": [],
   "source": [
    "ba_url = 'http://www.beeradvocate.com'\n",
    "style_suffix = '?sort=revsD&start=0'\n",
    "soup = get_soup(ba_url+style_url+style_suffix)"
   ]
  },
  {
   "cell_type": "code",
   "execution_count": null,
   "metadata": {
    "collapsed": false
   },
   "outputs": [],
   "source": [
    "int(re.findall(r'(?<=\\(out of )\\d*',soup.find('tr').get_text())[0])"
   ]
  },
  {
   "cell_type": "code",
   "execution_count": null,
   "metadata": {
    "collapsed": false
   },
   "outputs": [],
   "source": []
  },
  {
   "cell_type": "code",
   "execution_count": null,
   "metadata": {
    "collapsed": false
   },
   "outputs": [],
   "source": [
    "beer_styles.items()[0]"
   ]
  },
  {
   "cell_type": "code",
   "execution_count": null,
   "metadata": {
    "collapsed": true
   },
   "outputs": [],
   "source": [
    "# Pulls the name and url to all beers with more than 25 'hads'\n",
    "\n",
    "ba_url = 'http://www.beeradvocate.com'\n",
    "style_suffix = '?sort=revsD&start='\n",
    "columns = ['name','url']\n",
    "temp = {}\n",
    "for style in beer_styles.items():\n",
    "    print(url)\n",
    "    url = ba_url+style[1]+style_suffix\n",
    "    soup = get_soup(url)\n",
    "    num_beers = int(re.findall(r'(?<=\\(out of )\\d*',soup.find('tr').get_text())[0])\n",
    "    print num_beers\n",
    "    min_beer = False\n",
    "    for i in range(num_beers//50):\n",
    "        if min_beer:\n",
    "                break\n",
    "        url = ba_url+style[1]+style_suffix+str(i*50)\n",
    "        soup = get_soup(url)\n",
    "        for row in soup.find_all('tr')[3:-1]:\n",
    "            cells = row.find_all('td')\n",
    "            if int(cells[4].get_text().replace(',','')) < 25:\n",
    "                min_beer = True\n",
    "                break\n",
    "            temp[cells[0].find('a').get_text()] = cells[0].find('a')['href']"
   ]
  },
  {
   "cell_type": "code",
   "execution_count": null,
   "metadata": {
    "collapsed": false
   },
   "outputs": [],
   "source": [
    "pickle.dump(temp,open('beer_list.pkl','wb'))"
   ]
  },
  {
   "cell_type": "code",
   "execution_count": null,
   "metadata": {
    "collapsed": false
   },
   "outputs": [],
   "source": [
    "beer_urls = pickle.load(open('beer_list.pkl','rb'))"
   ]
  },
  {
   "cell_type": "code",
   "execution_count": null,
   "metadata": {
    "collapsed": false
   },
   "outputs": [],
   "source": [
    "columns = ['name','url']\n",
    "beers = pd.DataFrame(columns=columns)\n",
    "\n",
    "beers['name'] = beer_urls.keys()\n",
    "beers['url']  = beer_urls.values()\n",
    "pd.to_pickle(beers,'beers.pkl')"
   ]
  },
  {
   "cell_type": "code",
   "execution_count": 4,
   "metadata": {
    "collapsed": true
   },
   "outputs": [],
   "source": [
    "beers = pd.read_pickle('beers.pkl')"
   ]
  },
  {
   "cell_type": "code",
   "execution_count": 27,
   "metadata": {
    "collapsed": false
   },
   "outputs": [],
   "source": [
    "def get_beer_soup(url):\n",
    "    ba_url = 'http://www.beeradvocate.com'\n",
    "    url = ba_url+url\n",
    "    soup = get_soup(url)\n",
    "    return soup"
   ]
  },
  {
   "cell_type": "code",
   "execution_count": 30,
   "metadata": {
    "collapsed": false
   },
   "outputs": [],
   "source": [
    "import sys\n",
    "sys.setrecursionlimit(100000000)"
   ]
  },
  {
   "cell_type": "code",
   "execution_count": 31,
   "metadata": {
    "collapsed": false
   },
   "outputs": [
    {
     "name": "stderr",
     "output_type": "stream",
     "text": [
      "\r",
      "  0%|          | 0/89 [00:00<?, ?it/s]"
     ]
    },
    {
     "name": "stdout",
     "output_type": "stream",
     "text": [
      "http://www.beeradvocate.com/beer/profile/26676/104914/ failed with code: 403\n",
      "http://www.beeradvocate.com/beer/profile/2055/13583/ failed with code: 403\n",
      "http://www.beeradvocate.com/beer/profile/27021/124612/ failed with code: 403\n"
     ]
    },
    {
     "name": "stderr",
     "output_type": "stream",
     "text": [
      "/usr/local/lib/python2.7/site-packages/ipykernel/__main__.py:3: SettingWithCopyWarning: \n",
      "A value is trying to be set on a copy of a slice from a DataFrame.\n",
      "Try using .loc[row_indexer,col_indexer] = value instead\n",
      "\n",
      "See the caveats in the documentation: http://pandas.pydata.org/pandas-docs/stable/indexing.html#indexing-view-versus-copy\n",
      "  app.launch_new_instance()\n",
      "  1%|          | 1/89 [02:04<3:02:00, 124.10s/it]"
     ]
    },
    {
     "name": "stdout",
     "output_type": "stream",
     "text": [
      "http://www.beeradvocate.com/beer/profile/16773/104438/ failed with code: 403\n",
      "http://www.beeradvocate.com/beer/profile/395/35378/ failed with code: 403\n"
     ]
    },
    {
     "name": "stderr",
     "output_type": "stream",
     "text": [
      "\r",
      "  2%|▏         | 2/89 [04:09<3:00:19, 124.36s/it]"
     ]
    },
    {
     "name": "stdout",
     "output_type": "stream",
     "text": [
      "http://www.beeradvocate.com/beer/profile/113/17284/ failed with code: 403\n",
      "http://www.beeradvocate.com/beer/profile/24764/99037/ failed with code: 403\n"
     ]
    },
    {
     "name": "stderr",
     "output_type": "stream",
     "text": [
      "\r",
      "  3%|▎         | 3/89 [06:18<3:00:29, 125.93s/it]"
     ]
    },
    {
     "name": "stdout",
     "output_type": "stream",
     "text": [
      "http://www.beeradvocate.com/beer/profile/34318/156937/ failed with code: 403\n",
      "http://www.beeradvocate.com/beer/profile/23/43060/ failed with code: 403\n",
      "http://www.beeradvocate.com/beer/profile/22655/101507/ failed with code: 403\n",
      "http://www.beeradvocate.com/beer/profile/173/45936/ failed with code: 403\n"
     ]
    },
    {
     "name": "stderr",
     "output_type": "stream",
     "text": [
      "\r",
      "  4%|▍         | 4/89 [08:20<2:56:29, 124.58s/it]"
     ]
    },
    {
     "name": "stdout",
     "output_type": "stream",
     "text": [
      "http://www.beeradvocate.com/beer/profile/1636/4603/ failed with code: 403\n"
     ]
    },
    {
     "name": "stderr",
     "output_type": "stream",
     "text": [
      "\r",
      "  6%|▌         | 5/89 [10:23<2:54:07, 124.38s/it]"
     ]
    },
    {
     "name": "stdout",
     "output_type": "stream",
     "text": [
      "http://www.beeradvocate.com/beer/profile/26/86165/ failed with code: 403\n",
      "http://www.beeradvocate.com/beer/profile/19897/51045/ failed with code: 403\n"
     ]
    },
    {
     "name": "stderr",
     "output_type": "stream",
     "text": [
      "\r",
      "  7%|▋         | 6/89 [12:27<2:51:31, 124.00s/it]"
     ]
    },
    {
     "name": "stdout",
     "output_type": "stream",
     "text": [
      "http://www.beeradvocate.com/beer/profile/28383/81870/ failed with code: 403\n",
      "http://www.beeradvocate.com/beer/profile/1623/4584/ failed with code: 403\n",
      "http://www.beeradvocate.com/beer/profile/21154/57481/ failed with code: 403\n",
      "http://www.beeradvocate.com/beer/profile/433/1313/ failed with code: 500\n"
     ]
    },
    {
     "name": "stderr",
     "output_type": "stream",
     "text": [
      "\r",
      "  8%|▊         | 7/89 [14:26<2:47:23, 122.48s/it]"
     ]
    },
    {
     "name": "stdout",
     "output_type": "stream",
     "text": [
      "http://www.beeradvocate.com/beer/profile/703/6135/ failed with code: 403\n"
     ]
    },
    {
     "name": "stderr",
     "output_type": "stream",
     "text": [
      "\r",
      "  9%|▉         | 8/89 [16:24<2:43:53, 121.40s/it]"
     ]
    },
    {
     "name": "stdout",
     "output_type": "stream",
     "text": [
      "http://www.beeradvocate.com/beer/profile/396/189097/ failed with code: 403\n",
      "http://www.beeradvocate.com/beer/profile/24247/81721/ failed with code: 403\n",
      "http://www.beeradvocate.com/beer/profile/32908/114626/ failed with code: 403\n",
      "http://www.beeradvocate.com/beer/profile/789/35291/ failed with code: 403\n",
      "http://www.beeradvocate.com/beer/profile/28178/203498/ failed with code: 403\n"
     ]
    },
    {
     "name": "stderr",
     "output_type": "stream",
     "text": [
      "\r",
      " 10%|█         | 9/89 [18:23<2:40:46, 120.58s/it]"
     ]
    },
    {
     "name": "stdout",
     "output_type": "stream",
     "text": [
      "http://www.beeradvocate.com/beer/profile/16866/200131/ failed with code: 403\n",
      "http://www.beeradvocate.com/beer/profile/31644/180672/ failed with code: 403\n"
     ]
    },
    {
     "name": "stderr",
     "output_type": "stream",
     "text": [
      "\r",
      " 11%|█         | 10/89 [20:25<2:39:10, 120.89s/it]"
     ]
    },
    {
     "name": "stdout",
     "output_type": "stream",
     "text": [
      "http://www.beeradvocate.com/beer/profile/889/23531/ failed with code: 403\n"
     ]
    },
    {
     "name": "stderr",
     "output_type": "stream",
     "text": [
      " 13%|█▎        | 12/89 [24:37<2:38:54, 123.82s/it]"
     ]
    },
    {
     "name": "stdout",
     "output_type": "stream",
     "text": [
      "http://www.beeradvocate.com/beer/profile/1457/5136/ failed with code: 403\n",
      "http://www.beeradvocate.com/beer/profile/684/26207/ failed with code: 403\n",
      "http://www.beeradvocate.com/beer/profile/22524/61859/ failed with code: 403\n"
     ]
    },
    {
     "name": "stderr",
     "output_type": "stream",
     "text": [
      "\r",
      " 15%|█▍        | 13/89 [26:38<2:35:35, 122.84s/it]"
     ]
    },
    {
     "name": "stdout",
     "output_type": "stream",
     "text": [
      "http://www.beeradvocate.com/beer/profile/14879/118321/ failed with code: 403\n",
      "http://www.beeradvocate.com/beer/profile/28255/111924/ failed with code: 403\n"
     ]
    },
    {
     "name": "stderr",
     "output_type": "stream",
     "text": [
      "\r",
      " 16%|█▌        | 14/89 [28:46<2:35:33, 124.44s/it]"
     ]
    },
    {
     "name": "stdout",
     "output_type": "stream",
     "text": [
      "http://www.beeradvocate.com/beer/profile/158/88572/ failed with code: 403\n",
      "http://www.beeradvocate.com/beer/profile/907/3592/ failed with code: 403\n",
      "http://www.beeradvocate.com/beer/profile/19241/52046/ failed with code: 403\n",
      "http://www.beeradvocate.com/beer/profile/28019/84491/ failed with code: 403\n"
     ]
    },
    {
     "name": "stderr",
     "output_type": "stream",
     "text": [
      "\r",
      " 17%|█▋        | 15/89 [30:54<2:34:41, 125.42s/it]"
     ]
    },
    {
     "name": "stdout",
     "output_type": "stream",
     "text": [
      "http://www.beeradvocate.com/beer/profile/139/103831/ failed with code: 403\n",
      "http://www.beeradvocate.com/beer/profile/28726/90099/ failed with code: 403\n"
     ]
    },
    {
     "name": "stderr",
     "output_type": "stream",
     "text": [
      "\r",
      " 18%|█▊        | 16/89 [32:51<2:29:42, 123.05s/it]"
     ]
    },
    {
     "name": "stdout",
     "output_type": "stream",
     "text": [
      "http://www.beeradvocate.com/beer/profile/9139/43579/ failed with code: 403\n",
      "http://www.beeradvocate.com/beer/profile/16333/211556/ failed with code: 403\n",
      "http://www.beeradvocate.com/beer/profile/30542/118621/ failed with code: 403\n"
     ]
    },
    {
     "name": "stderr",
     "output_type": "stream",
     "text": [
      " 20%|██        | 18/89 [36:58<2:25:56, 123.33s/it]"
     ]
    },
    {
     "name": "stdout",
     "output_type": "stream",
     "text": [
      "http://www.beeradvocate.com/beer/profile/1037/6565/ failed with code: 500\n",
      "http://www.beeradvocate.com/beer/profile/26/184050/ failed with code: 403\n",
      "http://www.beeradvocate.com/beer/profile/596/26613/ failed with code: 403\n"
     ]
    },
    {
     "name": "stderr",
     "output_type": "stream",
     "text": [
      "\r",
      " 21%|██▏       | 19/89 [39:21<2:30:46, 129.24s/it]"
     ]
    },
    {
     "name": "stdout",
     "output_type": "stream",
     "text": [
      "http://www.beeradvocate.com/beer/profile/23315/71064/ failed with code: 403\n",
      "http://www.beeradvocate.com/beer/profile/10607/77299/ failed with code: 403\n"
     ]
    },
    {
     "name": "stderr",
     "output_type": "stream",
     "text": [
      "\r",
      " 22%|██▏       | 20/89 [41:31<2:28:59, 129.55s/it]"
     ]
    },
    {
     "name": "stdout",
     "output_type": "stream",
     "text": [
      "http://www.beeradvocate.com/beer/profile/24940/132380/ failed with code: 403\n",
      "http://www.beeradvocate.com/beer/profile/1935/7920/ failed with code: 403\n",
      "http://www.beeradvocate.com/beer/profile/700/83742/ failed with code: 403\n"
     ]
    },
    {
     "name": "stderr",
     "output_type": "stream",
     "text": [
      " 26%|██▌       | 23/89 [47:41<2:17:58, 125.43s/it]"
     ]
    },
    {
     "name": "stdout",
     "output_type": "stream",
     "text": [
      "http://www.beeradvocate.com/beer/profile/263/29145/ failed with code: 403\n",
      "http://www.beeradvocate.com/beer/profile/2346/7052/ failed with code: 403\n",
      "http://www.beeradvocate.com/beer/profile/25710/177881/ failed with code: 403\n"
     ]
    },
    {
     "name": "stderr",
     "output_type": "stream",
     "text": [
      "\r",
      " 27%|██▋       | 24/89 [49:58<2:19:38, 128.90s/it]"
     ]
    },
    {
     "name": "stdout",
     "output_type": "stream",
     "text": [
      "http://www.beeradvocate.com/beer/profile/26565/82744/ failed with code: 403\n",
      "http://www.beeradvocate.com/beer/profile/5316/7200/ failed with code: 403\n"
     ]
    },
    {
     "name": "stderr",
     "output_type": "stream",
     "text": [
      " 30%|███       | 27/89 [56:35<2:15:35, 131.22s/it]"
     ]
    },
    {
     "name": "stdout",
     "output_type": "stream",
     "text": [
      "http://www.beeradvocate.com/beer/profile/16393/146756/ failed with code: 403\n",
      "http://www.beeradvocate.com/beer/profile/20430/81744/ failed with code: 403\n"
     ]
    },
    {
     "name": "stderr",
     "output_type": "stream",
     "text": [
      "\r",
      " 31%|███▏      | 28/89 [58:52<2:15:08, 132.93s/it]"
     ]
    },
    {
     "name": "stdout",
     "output_type": "stream",
     "text": [
      "http://www.beeradvocate.com/beer/profile/436/19809/ failed with code: 403\n",
      "http://www.beeradvocate.com/beer/profile/4051/40865/ failed with code: 403\n",
      "http://www.beeradvocate.com/beer/profile/13884/63180/ failed with code: 403\n",
      "http://www.beeradvocate.com/beer/profile/2372/113505/ failed with code: 403\n"
     ]
    },
    {
     "name": "stderr",
     "output_type": "stream",
     "text": [
      "\r",
      " 33%|███▎      | 29/89 [1:00:59<2:11:01, 131.03s/it]"
     ]
    },
    {
     "name": "stdout",
     "output_type": "stream",
     "text": [
      "http://www.beeradvocate.com/beer/profile/30/1830/ failed with code: 403\n"
     ]
    },
    {
     "name": "stderr",
     "output_type": "stream",
     "text": [
      "\r",
      " 34%|███▎      | 30/89 [1:03:10<2:09:02, 131.23s/it]"
     ]
    },
    {
     "name": "stdout",
     "output_type": "stream",
     "text": [
      "http://www.beeradvocate.com/beer/profile/40579/218624/ failed with code: 403\n",
      "http://www.beeradvocate.com/beer/profile/71/84562/ failed with code: 403\n",
      "http://www.beeradvocate.com/beer/profile/1675/8052/ failed with code: 403\n",
      "http://www.beeradvocate.com/beer/profile/147/109789/ failed with code: 403\n"
     ]
    },
    {
     "name": "stderr",
     "output_type": "stream",
     "text": [
      "\r",
      " 35%|███▍      | 31/89 [1:05:14<2:04:41, 128.99s/it]"
     ]
    },
    {
     "name": "stdout",
     "output_type": "stream",
     "text": [
      "http://www.beeradvocate.com/beer/profile/15237/62070/ failed with code: 403\n"
     ]
    },
    {
     "name": "stderr",
     "output_type": "stream",
     "text": [
      "\r",
      " 36%|███▌      | 32/89 [1:07:22<2:02:19, 128.77s/it]"
     ]
    },
    {
     "name": "stdout",
     "output_type": "stream",
     "text": [
      "http://www.beeradvocate.com/beer/profile/17981/180992/ failed with code: 403\n"
     ]
    },
    {
     "name": "stderr",
     "output_type": "stream",
     "text": [
      "\r",
      " 37%|███▋      | 33/89 [1:09:28<1:59:12, 127.72s/it]"
     ]
    },
    {
     "name": "stdout",
     "output_type": "stream",
     "text": [
      "http://www.beeradvocate.com/beer/profile/31840/96859/ failed with code: 403\n",
      "http://www.beeradvocate.com/beer/profile/515/18895/ failed with code: 403\n",
      "http://www.beeradvocate.com/beer/profile/26932/93416/ failed with code: 403\n"
     ]
    },
    {
     "name": "stderr",
     "output_type": "stream",
     "text": [
      "\r",
      " 38%|███▊      | 34/89 [1:11:44<1:59:32, 130.41s/it]"
     ]
    },
    {
     "name": "stdout",
     "output_type": "stream",
     "text": [
      "http://www.beeradvocate.com/beer/profile/33064/148605/ failed with code: 403\n"
     ]
    },
    {
     "name": "stderr",
     "output_type": "stream",
     "text": [
      " 40%|████      | 36/89 [1:15:48<1:51:15, 125.95s/it]"
     ]
    },
    {
     "name": "stdout",
     "output_type": "stream",
     "text": [
      "http://www.beeradvocate.com/beer/profile/29656/144719/ failed with code: 403\n",
      "http://www.beeradvocate.com/beer/profile/43/467/ failed with code: 403\n",
      "http://www.beeradvocate.com/beer/profile/21872/55347/ failed with code: 403\n"
     ]
    },
    {
     "name": "stderr",
     "output_type": "stream",
     "text": [
      "\r",
      " 42%|████▏     | 37/89 [1:17:56<1:49:40, 126.54s/it]"
     ]
    },
    {
     "name": "stdout",
     "output_type": "stream",
     "text": [
      "http://www.beeradvocate.com/beer/profile/24168/72411/ failed with code: 403\n",
      "http://www.beeradvocate.com/beer/profile/267/66436/ failed with code: 403\n",
      "http://www.beeradvocate.com/beer/profile/583/39397/ failed with code: 403\n",
      "http://www.beeradvocate.com/beer/profile/18823/166022/ failed with code: 403\n"
     ]
    },
    {
     "name": "stderr",
     "output_type": "stream",
     "text": [
      "\r",
      " 43%|████▎     | 38/89 [1:20:00<1:46:54, 125.78s/it]"
     ]
    },
    {
     "name": "stdout",
     "output_type": "stream",
     "text": [
      "http://www.beeradvocate.com/beer/profile/2772/8725/ failed with code: 403\n",
      "http://www.beeradvocate.com/beer/profile/26520/79898/ failed with code: 403\n"
     ]
    },
    {
     "name": "stderr",
     "output_type": "stream",
     "text": [
      "\r",
      " 44%|████▍     | 39/89 [1:22:00<1:43:24, 124.09s/it]"
     ]
    },
    {
     "name": "stdout",
     "output_type": "stream",
     "text": [
      "http://www.beeradvocate.com/beer/profile/825/3587/ failed with code: 500\n"
     ]
    },
    {
     "name": "stderr",
     "output_type": "stream",
     "text": [
      "\r",
      " 45%|████▍     | 40/89 [1:24:04<1:41:16, 124.01s/it]"
     ]
    },
    {
     "name": "stdout",
     "output_type": "stream",
     "text": [
      "http://www.beeradvocate.com/beer/profile/22564/79840/ failed with code: 403\n",
      "http://www.beeradvocate.com/beer/profile/36798/210557/ failed with code: 403\n"
     ]
    },
    {
     "name": "stderr",
     "output_type": "stream",
     "text": [
      "\r",
      " 46%|████▌     | 41/89 [1:26:10<1:39:40, 124.58s/it]"
     ]
    },
    {
     "name": "stdout",
     "output_type": "stream",
     "text": [
      "http://www.beeradvocate.com/beer/profile/31272/96578/ failed with code: 403\n"
     ]
    },
    {
     "name": "stderr",
     "output_type": "stream",
     "text": [
      "\r",
      " 47%|████▋     | 42/89 [1:28:18<1:38:29, 125.74s/it]"
     ]
    },
    {
     "name": "stdout",
     "output_type": "stream",
     "text": [
      "http://www.beeradvocate.com/beer/profile/1628/34956/ failed with code: 403\n",
      "http://www.beeradvocate.com/beer/profile/566/13070/ failed with code: 403\n"
     ]
    },
    {
     "name": "stderr",
     "output_type": "stream",
     "text": [
      "\r",
      " 48%|████▊     | 43/89 [1:30:18<1:35:04, 124.02s/it]"
     ]
    },
    {
     "name": "stdout",
     "output_type": "stream",
     "text": [
      "http://www.beeradvocate.com/beer/profile/33160/112140/ failed with code: 403\n",
      "http://www.beeradvocate.com/beer/profile/105/68248/ failed with code: 403\n",
      "http://www.beeradvocate.com/beer/profile/2432/27792/ failed with code: 403\n",
      "http://www.beeradvocate.com/beer/profile/347/30518/ failed with code: 403\n"
     ]
    },
    {
     "name": "stderr",
     "output_type": "stream",
     "text": [
      "\r",
      " 49%|████▉     | 44/89 [1:32:22<1:33:02, 124.05s/it]"
     ]
    },
    {
     "name": "stdout",
     "output_type": "stream",
     "text": [
      "http://www.beeradvocate.com/beer/profile/1530/10277/ failed with code: 403\n",
      "http://www.beeradvocate.com/beer/profile/31678/189327/ failed with code: 403\n"
     ]
    },
    {
     "name": "stderr",
     "output_type": "stream",
     "text": [
      " 52%|█████▏    | 46/89 [1:36:42<1:30:52, 126.81s/it]"
     ]
    },
    {
     "name": "stdout",
     "output_type": "stream",
     "text": [
      "http://www.beeradvocate.com/beer/profile/13371/118229/ failed with code: 403\n",
      "http://www.beeradvocate.com/beer/profile/604/21197/ failed with code: 403\n",
      "http://www.beeradvocate.com/beer/profile/28383/95633/ failed with code: 403\n"
     ]
    },
    {
     "name": "stderr",
     "output_type": "stream",
     "text": [
      "\r",
      " 53%|█████▎    | 47/89 [1:39:06<1:32:24, 132.01s/it]"
     ]
    },
    {
     "name": "stdout",
     "output_type": "stream",
     "text": [
      "http://www.beeradvocate.com/beer/profile/37961/161406/ failed with code: 403\n",
      "http://www.beeradvocate.com/beer/profile/215/1811/ failed with code: 403\n"
     ]
    },
    {
     "name": "stderr",
     "output_type": "stream",
     "text": [
      "\r",
      " 54%|█████▍    | 48/89 [1:41:14<1:29:25, 130.86s/it]"
     ]
    },
    {
     "name": "stdout",
     "output_type": "stream",
     "text": [
      "http://www.beeradvocate.com/beer/profile/12516/42983/ failed with code: 403\n",
      "http://www.beeradvocate.com/beer/profile/598/65060/ failed with code: 403\n"
     ]
    },
    {
     "name": "stderr",
     "output_type": "stream",
     "text": [
      "\r",
      " 55%|█████▌    | 49/89 [1:43:51<1:32:30, 138.77s/it]"
     ]
    },
    {
     "name": "stdout",
     "output_type": "stream",
     "text": [
      "http://www.beeradvocate.com/beer/profile/697/96243/ failed with code: 403\n",
      "http://www.beeradvocate.com/beer/profile/9629/37483/ failed with code: 403\n",
      "http://www.beeradvocate.com/beer/profile/31478/96766/ failed with code: 403\n"
     ]
    },
    {
     "name": "stderr",
     "output_type": "stream",
     "text": [
      "\r",
      " 56%|█████▌    | 50/89 [1:46:03<1:28:46, 136.57s/it]"
     ]
    },
    {
     "name": "stdout",
     "output_type": "stream",
     "text": [
      "http://www.beeradvocate.com/beer/profile/696/125502/ failed with code: 403\n"
     ]
    },
    {
     "name": "stderr",
     "output_type": "stream",
     "text": [
      "\r",
      " 57%|█████▋    | 51/89 [1:48:25<1:27:36, 138.33s/it]"
     ]
    },
    {
     "name": "stdout",
     "output_type": "stream",
     "text": [
      "http://www.beeradvocate.com/beer/profile/32406/106852/ failed with code: 403\n",
      "http://www.beeradvocate.com/beer/profile/30807/93480/ failed with code: 403\n",
      "http://www.beeradvocate.com/beer/profile/27947/86596/ failed with code: 403\n"
     ]
    },
    {
     "name": "stderr",
     "output_type": "stream",
     "text": [
      "\r",
      " 58%|█████▊    | 52/89 [1:50:42<1:25:02, 137.90s/it]"
     ]
    },
    {
     "name": "stdout",
     "output_type": "stream",
     "text": [
      "http://www.beeradvocate.com/beer/profile/48/19363/ failed with code: 403\n",
      "http://www.beeradvocate.com/beer/profile/158/76886/ failed with code: 403\n",
      "http://www.beeradvocate.com/beer/profile/31805/102492/ failed with code: 403\n"
     ]
    },
    {
     "name": "stderr",
     "output_type": "stream",
     "text": [
      "\r",
      " 60%|█████▉    | 53/89 [1:52:51<1:21:06, 135.18s/it]"
     ]
    },
    {
     "name": "stdout",
     "output_type": "stream",
     "text": [
      "http://www.beeradvocate.com/beer/profile/11031/42445/ failed with code: 403\n",
      "http://www.beeradvocate.com/beer/profile/16206/48375/ failed with code: 403\n",
      "http://www.beeradvocate.com/beer/profile/33607/154162/ failed with code: 403\n"
     ]
    },
    {
     "name": "stderr",
     "output_type": "stream",
     "text": [
      " 63%|██████▎   | 56/89 [1:59:16<1:11:55, 130.78s/it]"
     ]
    },
    {
     "name": "stdout",
     "output_type": "stream",
     "text": [
      "http://www.beeradvocate.com/beer/profile/1141/42958/ failed with code: 403\n",
      "http://www.beeradvocate.com/beer/profile/664/2731/ failed with code: 403\n"
     ]
    },
    {
     "name": "stderr",
     "output_type": "stream",
     "text": [
      "\r",
      " 64%|██████▍   | 57/89 [2:01:26<1:09:35, 130.48s/it]"
     ]
    },
    {
     "name": "stdout",
     "output_type": "stream",
     "text": [
      "http://www.beeradvocate.com/beer/profile/5266/17026/ failed with code: 403\n",
      "http://www.beeradvocate.com/beer/profile/34149/115118/ failed with code: 403\n",
      "http://www.beeradvocate.com/beer/profile/30815/99003/ failed with code: 403\n"
     ]
    },
    {
     "name": "stderr",
     "output_type": "stream",
     "text": [
      "\r",
      " 65%|██████▌   | 58/89 [2:03:51<1:09:39, 134.83s/it]"
     ]
    },
    {
     "name": "stdout",
     "output_type": "stream",
     "text": [
      "http://www.beeradvocate.com/beer/profile/17033/42695/ failed with code: 403\n",
      "http://www.beeradvocate.com/beer/profile/12881/61689/ failed with code: 500\n"
     ]
    },
    {
     "name": "stderr",
     "output_type": "stream",
     "text": [
      "\r",
      " 66%|██████▋   | 59/89 [2:06:02<1:06:48, 133.63s/it]"
     ]
    },
    {
     "name": "stdout",
     "output_type": "stream",
     "text": [
      "http://www.beeradvocate.com/beer/profile/24018/184060/ failed with code: 403\n"
     ]
    },
    {
     "name": "stderr",
     "output_type": "stream",
     "text": [
      "\r",
      " 67%|██████▋   | 60/89 [2:08:08<1:03:29, 131.35s/it]"
     ]
    },
    {
     "name": "stdout",
     "output_type": "stream",
     "text": [
      "http://www.beeradvocate.com/beer/profile/28556/89820/ failed with code: 403\n",
      "http://www.beeradvocate.com/beer/profile/29434/105721/ failed with code: 403\n",
      "http://www.beeradvocate.com/beer/profile/10485/178506/ failed with code: 403\n",
      "http://www.beeradvocate.com/beer/profile/27917/150504/ failed with code: 403\n"
     ]
    },
    {
     "name": "stderr",
     "output_type": "stream",
     "text": [
      "\r",
      " 69%|██████▊   | 61/89 [2:10:14<1:00:29, 129.63s/it]"
     ]
    },
    {
     "name": "stdout",
     "output_type": "stream",
     "text": [
      "http://www.beeradvocate.com/beer/profile/23459/64493/ failed with code: 403\n"
     ]
    },
    {
     "name": "stderr",
     "output_type": "stream",
     "text": [
      "\r",
      " 70%|██████▉   | 62/89 [2:12:27<58:50, 130.77s/it]  "
     ]
    },
    {
     "name": "stdout",
     "output_type": "stream",
     "text": [
      "http://www.beeradvocate.com/beer/profile/3/60284/ failed with code: 403\n",
      "http://www.beeradvocate.com/beer/profile/294/815/ failed with code: 403\n",
      "http://www.beeradvocate.com/beer/profile/22072/179142/ failed with code: 403\n",
      "http://www.beeradvocate.com/beer/profile/24428/73210/ failed with code: 403\n"
     ]
    },
    {
     "name": "stderr",
     "output_type": "stream",
     "text": [
      " 72%|███████▏  | 64/89 [2:16:49<54:27, 130.69s/it]"
     ]
    },
    {
     "name": "stdout",
     "output_type": "stream",
     "text": [
      "http://www.beeradvocate.com/beer/profile/23222/76304/ failed with code: 403\n",
      "http://www.beeradvocate.com/beer/profile/75/88536/ failed with code: 403\n",
      "http://www.beeradvocate.com/beer/profile/864/112280/ failed with code: 403\n"
     ]
    },
    {
     "name": "stderr",
     "output_type": "stream",
     "text": [
      "\r",
      " 73%|███████▎  | 65/89 [2:19:00<52:25, 131.05s/it]"
     ]
    },
    {
     "name": "stdout",
     "output_type": "stream",
     "text": [
      "http://www.beeradvocate.com/beer/profile/21154/54966/ failed with code: 500\n",
      "http://www.beeradvocate.com/beer/profile/2391/55504/ failed with code: 403\n",
      "http://www.beeradvocate.com/beer/profile/28178/112878/ failed with code: 403\n",
      "http://www.beeradvocate.com/beer/profile/25818/145776/ failed with code: 403\n"
     ]
    },
    {
     "name": "stderr",
     "output_type": "stream",
     "text": [
      "\r",
      " 74%|███████▍  | 66/89 [2:21:06<49:38, 129.49s/it]"
     ]
    },
    {
     "name": "stdout",
     "output_type": "stream",
     "text": [
      "http://www.beeradvocate.com/beer/profile/1805/13701/ failed with code: 403\n",
      "http://www.beeradvocate.com/beer/profile/4/88815/ failed with code: 500\n"
     ]
    },
    {
     "name": "stderr",
     "output_type": "stream",
     "text": [
      "\r",
      " 75%|███████▌  | 67/89 [2:23:17<47:37, 129.88s/it]"
     ]
    },
    {
     "name": "stdout",
     "output_type": "stream",
     "text": [
      "http://www.beeradvocate.com/beer/profile/22/1693/ failed with code: 403\n"
     ]
    },
    {
     "name": "stderr",
     "output_type": "stream",
     "text": [
      " 78%|███████▊  | 69/89 [2:27:45<43:59, 131.98s/it]"
     ]
    },
    {
     "name": "stdout",
     "output_type": "stream",
     "text": [
      "http://www.beeradvocate.com/beer/profile/33437/109428/ failed with code: 403\n"
     ]
    },
    {
     "name": "stderr",
     "output_type": "stream",
     "text": [
      "\r",
      " 79%|███████▊  | 70/89 [2:29:56<41:44, 131.82s/it]"
     ]
    },
    {
     "name": "stdout",
     "output_type": "stream",
     "text": [
      "http://www.beeradvocate.com/beer/profile/195/617/ failed with code: 403\n",
      "http://www.beeradvocate.com/beer/profile/30949/101709/ failed with code: 403\n"
     ]
    },
    {
     "name": "stderr",
     "output_type": "stream",
     "text": [
      "\r",
      " 80%|███████▉  | 71/89 [2:32:11<39:48, 132.71s/it]"
     ]
    },
    {
     "name": "stdout",
     "output_type": "stream",
     "text": [
      "http://www.beeradvocate.com/beer/profile/48/3490/ failed with code: 403\n",
      "http://www.beeradvocate.com/beer/profile/16354/39238/ failed with code: 403\n"
     ]
    },
    {
     "name": "stderr",
     "output_type": "stream",
     "text": [
      "\r",
      " 81%|████████  | 72/89 [2:34:22<37:28, 132.26s/it]"
     ]
    },
    {
     "name": "stdout",
     "output_type": "stream",
     "text": [
      "http://www.beeradvocate.com/beer/profile/775/14027/ failed with code: 403\n",
      "http://www.beeradvocate.com/beer/profile/16352/149857/ failed with code: 403\n",
      "http://www.beeradvocate.com/beer/profile/13014/212431/ failed with code: 403\n"
     ]
    },
    {
     "name": "stderr",
     "output_type": "stream",
     "text": [
      "\r",
      " 82%|████████▏ | 73/89 [2:36:42<35:53, 134.57s/it]"
     ]
    },
    {
     "name": "stdout",
     "output_type": "stream",
     "text": [
      "http://www.beeradvocate.com/beer/profile/27025/101083/ failed with code: 500\n",
      "http://www.beeradvocate.com/beer/profile/32893/212780/ failed with code: 403\n"
     ]
    },
    {
     "name": "stderr",
     "output_type": "stream",
     "text": [
      " 84%|████████▍ | 75/89 [2:41:03<30:52, 132.32s/it]"
     ]
    },
    {
     "name": "stdout",
     "output_type": "stream",
     "text": [
      "http://www.beeradvocate.com/beer/profile/32171/105040/ failed with code: 403\n",
      "http://www.beeradvocate.com/beer/profile/24018/128242/ failed with code: 500\n"
     ]
    },
    {
     "name": "stderr",
     "output_type": "stream",
     "text": [
      "\r",
      " 85%|████████▌ | 76/89 [2:43:22<29:05, 134.29s/it]"
     ]
    },
    {
     "name": "stdout",
     "output_type": "stream",
     "text": [
      "http://www.beeradvocate.com/beer/profile/33018/148547/ failed with code: 403\n",
      "http://www.beeradvocate.com/beer/profile/25775/82169/ failed with code: 403\n",
      "http://www.beeradvocate.com/beer/profile/33901/118920/ failed with code: 403\n"
     ]
    },
    {
     "name": "stderr",
     "output_type": "stream",
     "text": [
      "\r",
      " 87%|████████▋ | 77/89 [2:45:34<26:44, 133.70s/it]"
     ]
    },
    {
     "name": "stdout",
     "output_type": "stream",
     "text": [
      "http://www.beeradvocate.com/beer/profile/402/45914/ failed with code: 403\n"
     ]
    },
    {
     "name": "stderr",
     "output_type": "stream",
     "text": [
      " 89%|████████▉ | 79/89 [2:49:55<22:03, 132.34s/it]"
     ]
    },
    {
     "name": "stdout",
     "output_type": "stream",
     "text": [
      "http://www.beeradvocate.com/beer/profile/17223/55942/ failed with code: 403\n",
      "http://www.beeradvocate.com/beer/profile/23326/69298/ failed with code: 403\n",
      "http://www.beeradvocate.com/beer/profile/138/8081/ failed with code: 403\n",
      "http://www.beeradvocate.com/beer/profile/14967/118297/ failed with code: 403\n"
     ]
    },
    {
     "name": "stderr",
     "output_type": "stream",
     "text": [
      "\r",
      " 90%|████████▉ | 80/89 [2:52:13<20:05, 133.98s/it]"
     ]
    },
    {
     "name": "stdout",
     "output_type": "stream",
     "text": [
      "http://www.beeradvocate.com/beer/profile/2743/86841/ failed with code: 403\n",
      "http://www.beeradvocate.com/beer/profile/640/1738/ failed with code: 403\n",
      "http://www.beeradvocate.com/beer/profile/506/16406/ failed with code: 403\n"
     ]
    },
    {
     "name": "stderr",
     "output_type": "stream",
     "text": [
      "\r",
      " 91%|█████████ | 81/89 [2:54:21<17:38, 132.31s/it]"
     ]
    },
    {
     "name": "stdout",
     "output_type": "stream",
     "text": [
      "http://www.beeradvocate.com/beer/profile/60/1598/ failed with code: 403\n"
     ]
    },
    {
     "name": "stderr",
     "output_type": "stream",
     "text": [
      "\r",
      " 92%|█████████▏| 82/89 [2:56:34<15:26, 132.34s/it]"
     ]
    },
    {
     "name": "stdout",
     "output_type": "stream",
     "text": [
      "http://www.beeradvocate.com/beer/profile/19378/98544/ failed with code: 403\n"
     ]
    },
    {
     "name": "stderr",
     "output_type": "stream",
     "text": [
      " 94%|█████████▍| 84/89 [3:00:49<10:49, 129.81s/it]"
     ]
    },
    {
     "name": "stdout",
     "output_type": "stream",
     "text": [
      "http://www.beeradvocate.com/beer/profile/583/1994/ failed with code: 403\n"
     ]
    },
    {
     "name": "stderr",
     "output_type": "stream",
     "text": [
      "\r",
      " 96%|█████████▌| 85/89 [3:02:52<08:31, 127.77s/it]"
     ]
    },
    {
     "name": "stdout",
     "output_type": "stream",
     "text": [
      "http://www.beeradvocate.com/beer/profile/1195/3349/ failed with code: 500\n",
      "http://www.beeradvocate.com/beer/profile/28/197461/ failed with code: 403\n"
     ]
    },
    {
     "name": "stderr",
     "output_type": "stream",
     "text": [
      "\r",
      " 97%|█████████▋| 86/89 [3:04:55<06:19, 126.40s/it]"
     ]
    },
    {
     "name": "stdout",
     "output_type": "stream",
     "text": [
      "http://www.beeradvocate.com/beer/profile/30746/90736/ failed with code: 500\n",
      "http://www.beeradvocate.com/beer/profile/24299/92753/ failed with code: 403\n"
     ]
    },
    {
     "name": "stderr",
     "output_type": "stream",
     "text": [
      " 99%|█████████▉| 88/89 [3:09:07<02:05, 125.93s/it]"
     ]
    },
    {
     "name": "stdout",
     "output_type": "stream",
     "text": [
      "http://www.beeradvocate.com/beer/profile/17980/64545/ failed with code: 403\n",
      "http://www.beeradvocate.com/beer/profile/25959/70761/ failed with code: 403\n"
     ]
    },
    {
     "name": "stderr",
     "output_type": "stream",
     "text": [
      "100%|██████████| 89/89 [3:11:12<00:00, 125.82s/it]\n"
     ]
    }
   ],
   "source": [
    "for i in tqdm(range(0,beers.shape[0],230)):\n",
    "    temp = beers.iloc[i:i+230-1,:]\n",
    "    temp['soup'] = temp.url.map(get_beer_soup)\n",
    "    temp.to_pickle('beer_soup_'+str(i+230-1)+'.pkl')"
   ]
  },
  {
   "cell_type": "code",
   "execution_count": null,
   "metadata": {
    "collapsed": false
   },
   "outputs": [],
   "source": []
  },
  {
   "cell_type": "code",
   "execution_count": null,
   "metadata": {
    "collapsed": true
   },
   "outputs": [],
   "source": []
  },
  {
   "cell_type": "code",
   "execution_count": null,
   "metadata": {
    "collapsed": false
   },
   "outputs": [],
   "source": []
  },
  {
   "cell_type": "code",
   "execution_count": null,
   "metadata": {
    "collapsed": false
   },
   "outputs": [],
   "source": [
    "beer_reviews = {}\n",
    "ba_url = 'http://www.beeradvocate.com'\n",
    "\n",
    "for beer in beers.items():\n",
    "    soup = get_soup(ba_url+beer[1])\n",
    "    print(beer[0])\n",
    "    beer_reviews[beer[0]] = get_beer_reviews(soup)"
   ]
  }
 ],
 "metadata": {
  "kernelspec": {
   "display_name": "Python 2",
   "language": "python",
   "name": "python2"
  },
  "language_info": {
   "codemirror_mode": {
    "name": "ipython",
    "version": 2
   },
   "file_extension": ".py",
   "mimetype": "text/x-python",
   "name": "python",
   "nbconvert_exporter": "python",
   "pygments_lexer": "ipython2",
   "version": "2.7.11"
  }
 },
 "nbformat": 4,
 "nbformat_minor": 0
}
